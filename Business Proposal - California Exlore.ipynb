{
    "cells": [
        {
            "cell_type": "markdown",
            "metadata": {
                "collapsed": true
            },
            "source": "# <center> California Explore - Introduction <center>"
        },
        {
            "cell_type": "markdown",
            "metadata": {},
            "source": "## Introduction\nThe purpose of this Project is to help people in exploring better facilities around their neighborhood. It will help people making smart and efficient decision on selecting great neighborhood out of numbers of other neighborhoods in California.\n\nLots of people are migrating to various states of California and needed lots of research for good housing prices. This project is for those people who are looking for better neighborhoods."
        },
        {
            "cell_type": "markdown",
            "metadata": {},
            "source": "## Problem Which Tried to Solve:\n\nThe major purpose of this project, is to suggest a better neighborhood in a new city for the person who are shiffting there. Social presence in society in terms of like minded people. Connectivity to the airport, bus stand, city center, markets and other daily needs things nearby.\n\n1. Sorted list of house in terms of housing prices in a ascending or descending order\n2. Predict the house price of any area"
        },
        {
            "cell_type": "markdown",
            "metadata": {},
            "source": "## The Location:\nCalifornia is adjacent to the Pacific Ocean, Oregon, Nevada, Arizona and the Mexican state of Baja California. The state has many beautiful natural sights, including the spacious Central Valley, high mountains, hot deserts, and hundreds of miles of beautiful coastline.It is one of the most culturally diverse and economically and politically developed regions, being home to various religious groups and places of worship."
        },
        {
            "cell_type": "markdown",
            "metadata": {},
            "source": "## Libraries Which are Used to Develope the Project:\nPandas: For creating and manipulating dataframes.\n\nFolium: Python visualization library would be used to visualize the neighborhoods cluster distribution of using interactive leaflet map.\n\nScikit Learn: For importing k-means clustering.\n\nJSON: Library to handle JSON files.\n\nXML: To separate data from presentation and XML stores data in plain text format.\n\nGeocoder: To retrieve Location Data.\n\nBeautiful Soup and Requests: To scrap and library to handle http requests.\n\nMatplotlib: Python Plotting Module."
        }
    ],
    "metadata": {
        "kernelspec": {
            "display_name": "Python 3.7",
            "language": "python",
            "name": "python3"
        },
        "language_info": {
            "codemirror_mode": {
                "name": "ipython",
                "version": 3
            },
            "file_extension": ".py",
            "mimetype": "text/x-python",
            "name": "python",
            "nbconvert_exporter": "python",
            "pygments_lexer": "ipython3",
            "version": "3.7.10"
        }
    },
    "nbformat": 4,
    "nbformat_minor": 1
}